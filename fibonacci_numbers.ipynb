{
 "cells": [
  {
   "cell_type": "code",
   "execution_count": 1,
   "metadata": {},
   "outputs": [
    {
     "name": "stdout",
     "output_type": "stream",
     "text": [
      "Enter the number:150\n",
      "0 1 1 2 3 5 8 13 21 34 55 89 144 "
     ]
    }
   ],
   "source": [
    "#Get input from the user(i.e, the end of the fibonacci sequence number)\n",
    "num = int(input(\"Enter the number:\"))\n",
    "#intialize a & b as 0 & 1\n",
    "a = 0\n",
    "b = 1\n",
    "#intialize sum to 1\n",
    "sum = 0\n",
    "#Execute the loop when sum is less the number given by the user\n",
    "while(sum<num):\n",
    "    #print the sum\n",
    "    print(sum,end=' ')\n",
    "    #Assign b to a\n",
    "    a = b\n",
    "    #Assign sum to b\n",
    "    b = sum\n",
    "    #Assign the summation of a & b in sum\n",
    "    sum = a+b"
   ]
  },
  {
   "cell_type": "code",
   "execution_count": null,
   "metadata": {},
   "outputs": [],
   "source": []
  }
 ],
 "metadata": {
  "kernelspec": {
   "display_name": "Python 3",
   "language": "python",
   "name": "python3"
  },
  "language_info": {
   "codemirror_mode": {
    "name": "ipython",
    "version": 3
   },
   "file_extension": ".py",
   "mimetype": "text/x-python",
   "name": "python",
   "nbconvert_exporter": "python",
   "pygments_lexer": "ipython3",
   "version": "3.7.6"
  }
 },
 "nbformat": 4,
 "nbformat_minor": 4
}
